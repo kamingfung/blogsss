{
 "cells": [
  {
   "cell_type": "markdown",
   "metadata": {},
   "source": [
    "# Visualizing harmful PM<sub>2.5</sub> levels in the US by county"
   ]
  },
  {
   "cell_type": "code",
   "execution_count": null,
   "metadata": {},
   "outputs": [],
   "source": [
    "# %pip install pandas geopandas folium matplotlib mapclassify"
   ]
  },
  {
   "cell_type": "code",
   "execution_count": null,
   "metadata": {},
   "outputs": [],
   "source": [
    "import pandas as pd\n",
    "import geopandas as gpd"
   ]
  },
  {
   "cell_type": "code",
   "execution_count": null,
   "metadata": {},
   "outputs": [],
   "source": [
    "# download the data from US NIH (https://hdpulse.nimhd.nih.gov/data-portal/physical/table?age=001&age_options=ageall_1&demo=234&demo_options=air_pollution_1&physicaltopic=002&physicaltopic_options=physical_2&race=00&race_options=raceall_1&sex=0&sex_options=sexboth_1&statefips=99&statefips_options=area_states)\n",
    "\n",
    "county_pm25: pd.DataFrame = pd.read_csv(\n",
    "    \"HDPulse_data_export.csv\",\n",
    "    skiprows=5,\n",
    ")"
   ]
  },
  {
   "cell_type": "code",
   "execution_count": null,
   "metadata": {},
   "outputs": [],
   "source": [
    "county_pm25"
   ]
  },
  {
   "cell_type": "code",
   "execution_count": null,
   "metadata": {},
   "outputs": [],
   "source": [
    "county_pm25_processed: pd.DataFrame = (\n",
    "    county_pm25.assign(\n",
    "        # make PM2.5 reading a float\n",
    "        pm25_ug_per_m3=lambda x: pd.to_numeric(arg=x[x.keys()[-1]], errors=\"coerce\"),\n",
    "        # convert FIPS to a 5-digit string\n",
    "        FIPS=lambda x: pd.to_numeric(x[\"FIPS\"]),\n",
    "    )\n",
    "    .dropna(\n",
    "        # drop rows with missing PM2.5 readings\n",
    "        subset=[\n",
    "            \"FIPS\",\n",
    "            \"pm25_ug_per_m3\",\n",
    "        ],\n",
    "    )\n",
    "    .assign(\n",
    "        FIPS=lambda x: x[\"FIPS\"].astype(int).astype(str).str.zfill(5),\n",
    "    )\n",
    ")"
   ]
  },
  {
   "cell_type": "code",
   "execution_count": null,
   "metadata": {},
   "outputs": [],
   "source": [
    "# optional sense check\n",
    "county_pm25_processed"
   ]
  },
  {
   "cell_type": "code",
   "execution_count": null,
   "metadata": {},
   "outputs": [],
   "source": [
    "# download us county shape files from https://www.census.gov/geographies/mapping-files/time-series/geo/carto-boundary-file.html\n",
    "\n",
    "counties: gpd.GeoDataFrame = gpd.read_file(\n",
    "    \"cb_2017_us_county_500k\",\n",
    ")"
   ]
  },
  {
   "cell_type": "code",
   "execution_count": null,
   "metadata": {},
   "outputs": [],
   "source": [
    "counties_processed: gpd.GeoDataFrame = counties.assign(\n",
    "    FIPS=lambda x: x[\"STATEFP\"] + x[\"COUNTYFP\"],\n",
    ")"
   ]
  },
  {
   "cell_type": "code",
   "execution_count": null,
   "metadata": {},
   "outputs": [],
   "source": [
    "# optional sense check\n",
    "counties_processed"
   ]
  },
  {
   "cell_type": "code",
   "execution_count": null,
   "metadata": {},
   "outputs": [],
   "source": [
    "# merge the two dataframes\n",
    "counties_w_pm25 = counties_processed.merge(\n",
    "    right=county_pm25_processed,\n",
    "    on=\"FIPS\",\n",
    "    how=\"left\",\n",
    ")"
   ]
  },
  {
   "cell_type": "code",
   "execution_count": null,
   "metadata": {},
   "outputs": [],
   "source": [
    "# optional sense check\n",
    "counties_w_pm25"
   ]
  },
  {
   "cell_type": "code",
   "execution_count": null,
   "metadata": {},
   "outputs": [],
   "source": [
    "# display the data on map by level of PM2.5\n",
    "counties_w_pm25.explore(\n",
    "    column=\"pm25_ug_per_m3\",\n",
    ")"
   ]
  },
  {
   "cell_type": "code",
   "execution_count": null,
   "metadata": {},
   "outputs": [],
   "source": []
  }
 ],
 "metadata": {
  "kernelspec": {
   "display_name": ".venv",
   "language": "python",
   "name": "python3"
  },
  "language_info": {
   "codemirror_mode": {
    "name": "ipython",
    "version": 3
   },
   "file_extension": ".py",
   "mimetype": "text/x-python",
   "name": "python",
   "nbconvert_exporter": "python",
   "pygments_lexer": "ipython3",
   "version": "3.12.0"
  }
 },
 "nbformat": 4,
 "nbformat_minor": 2
}
